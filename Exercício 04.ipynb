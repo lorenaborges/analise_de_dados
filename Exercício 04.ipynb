{
 "metadata": {
  "language_info": {
   "codemirror_mode": {
    "name": "ipython",
    "version": 3
   },
   "file_extension": ".py",
   "mimetype": "text/x-python",
   "name": "python",
   "nbconvert_exporter": "python",
   "pygments_lexer": "ipython3",
   "version": "3.8.3-final"
  },
  "orig_nbformat": 2,
  "kernelspec": {
   "name": "python3",
   "display_name": "Python 3"
  }
 },
 "nbformat": 4,
 "nbformat_minor": 2,
 "cells": [
  {
   "source": [
    "# EXERCÍCIO 04"
   ],
   "cell_type": "markdown",
   "metadata": {}
  },
  {
   "cell_type": "code",
   "execution_count": 1,
   "metadata": {},
   "outputs": [],
   "source": [
    "# Importar biblioteca pyodbc:\n",
    "import pyodbc"
   ]
  },
  {
   "cell_type": "code",
   "execution_count": 2,
   "metadata": {},
   "outputs": [],
   "source": [
    "# classe para conexão com o banco de dados\n",
    "\n",
    "class ConexaoBD():\n",
    "    def conectar(self):\n",
    "        return pyodbc.connect (driver='{SQL Server}', server = 'GROUP-NOTE0146', database = 'Empresa', trusted_conecction = 'yes')\n",
    "\n",
    "# pegar uma conexão com o banco de dados\n",
    "\n",
    "bd = ConexaoBD()\n",
    "conexao = bd.conectar()"
   ]
  },
  {
   "cell_type": "code",
   "execution_count": 3,
   "metadata": {},
   "outputs": [
    {
     "output_type": "error",
     "ename": "ProgrammingError",
     "evalue": "('42S01', \"[42S01] [Microsoft][ODBC SQL Server Driver][SQL Server]Já existe um objeto com nome 'Categoria' no banco de dados. (2714) (SQLExecDirectW)\")",
     "traceback": [
      "\u001b[1;31m---------------------------------------------------------------------------\u001b[0m",
      "\u001b[1;31mProgrammingError\u001b[0m                          Traceback (most recent call last)",
      "\u001b[1;32m<ipython-input-3-8bfa55684e40>\u001b[0m in \u001b[0;36m<module>\u001b[1;34m\u001b[0m\n\u001b[0;32m     16\u001b[0m             \u001b[0mself\u001b[0m\u001b[1;33m.\u001b[0m\u001b[0mconexao\u001b[0m\u001b[1;33m.\u001b[0m\u001b[0mexecute\u001b[0m\u001b[1;33m(\u001b[0m\u001b[0mddl\u001b[0m\u001b[1;33m)\u001b[0m\u001b[1;33m\u001b[0m\u001b[1;33m\u001b[0m\u001b[0m\n\u001b[0;32m     17\u001b[0m \u001b[0mcategoria\u001b[0m \u001b[1;33m=\u001b[0m \u001b[0mCategoria\u001b[0m\u001b[1;33m(\u001b[0m\u001b[0mconexao\u001b[0m\u001b[1;33m)\u001b[0m\u001b[1;33m\u001b[0m\u001b[1;33m\u001b[0m\u001b[0m\n\u001b[1;32m---> 18\u001b[1;33m \u001b[0mcategoria\u001b[0m\u001b[1;33m.\u001b[0m\u001b[0mcriar\u001b[0m\u001b[1;33m(\u001b[0m\u001b[1;33m)\u001b[0m\u001b[1;33m\u001b[0m\u001b[1;33m\u001b[0m\u001b[0m\n\u001b[0m",
      "\u001b[1;32m<ipython-input-3-8bfa55684e40>\u001b[0m in \u001b[0;36mcriar\u001b[1;34m(self)\u001b[0m\n\u001b[0;32m     14\u001b[0m             '''\n\u001b[0;32m     15\u001b[0m         \u001b[1;32mwith\u001b[0m \u001b[0mself\u001b[0m\u001b[1;33m.\u001b[0m\u001b[0mconexao\u001b[0m\u001b[1;33m:\u001b[0m\u001b[1;33m\u001b[0m\u001b[1;33m\u001b[0m\u001b[0m\n\u001b[1;32m---> 16\u001b[1;33m             \u001b[0mself\u001b[0m\u001b[1;33m.\u001b[0m\u001b[0mconexao\u001b[0m\u001b[1;33m.\u001b[0m\u001b[0mexecute\u001b[0m\u001b[1;33m(\u001b[0m\u001b[0mddl\u001b[0m\u001b[1;33m)\u001b[0m\u001b[1;33m\u001b[0m\u001b[1;33m\u001b[0m\u001b[0m\n\u001b[0m\u001b[0;32m     17\u001b[0m \u001b[0mcategoria\u001b[0m \u001b[1;33m=\u001b[0m \u001b[0mCategoria\u001b[0m\u001b[1;33m(\u001b[0m\u001b[0mconexao\u001b[0m\u001b[1;33m)\u001b[0m\u001b[1;33m\u001b[0m\u001b[1;33m\u001b[0m\u001b[0m\n\u001b[0;32m     18\u001b[0m \u001b[0mcategoria\u001b[0m\u001b[1;33m.\u001b[0m\u001b[0mcriar\u001b[0m\u001b[1;33m(\u001b[0m\u001b[1;33m)\u001b[0m\u001b[1;33m\u001b[0m\u001b[1;33m\u001b[0m\u001b[0m\n",
      "\u001b[1;31mProgrammingError\u001b[0m: ('42S01', \"[42S01] [Microsoft][ODBC SQL Server Driver][SQL Server]Já existe um objeto com nome 'Categoria' no banco de dados. (2714) (SQLExecDirectW)\")"
     ]
    }
   ],
   "source": [
    "# Criando a tabela Categoria\n",
    "\n",
    "class Categoria:\n",
    "    def __init__ (self, conexao):\n",
    "        self.conexao = conexao\n",
    "    \n",
    "    def criar (self):\n",
    "        ddl = '''\n",
    "            create table Categoria (\n",
    "                id int primary key identity (1, 1), -- identity (inicio, incremento): especifica o valor inicial e de incremento.\n",
    "                nome varchar (32),\n",
    "                descricao text\n",
    "            );\n",
    "            '''\n",
    "        with self.conexao:\n",
    "            self.conexao.execute(ddl)\n",
    "categoria = Categoria(conexao)\n",
    "categoria.criar()"
   ]
  },
  {
   "cell_type": "code",
   "execution_count": 4,
   "metadata": {},
   "outputs": [
    {
     "output_type": "error",
     "ename": "ProgrammingError",
     "evalue": "('42S01', \"[42S01] [Microsoft][ODBC SQL Server Driver][SQL Server]Já existe um objeto com nome 'Vendedor' no banco de dados. (2714) (SQLExecDirectW)\")",
     "traceback": [
      "\u001b[1;31m---------------------------------------------------------------------------\u001b[0m",
      "\u001b[1;31mProgrammingError\u001b[0m                          Traceback (most recent call last)",
      "\u001b[1;32m<ipython-input-4-54ac927759d2>\u001b[0m in \u001b[0;36m<module>\u001b[1;34m\u001b[0m\n\u001b[0;32m     17\u001b[0m             \u001b[0mself\u001b[0m\u001b[1;33m.\u001b[0m\u001b[0mconexao\u001b[0m\u001b[1;33m.\u001b[0m\u001b[0mexecute\u001b[0m\u001b[1;33m(\u001b[0m\u001b[0mddl\u001b[0m\u001b[1;33m)\u001b[0m\u001b[1;33m\u001b[0m\u001b[1;33m\u001b[0m\u001b[0m\n\u001b[0;32m     18\u001b[0m \u001b[0mcategoria\u001b[0m \u001b[1;33m=\u001b[0m \u001b[0mVendedor\u001b[0m\u001b[1;33m(\u001b[0m\u001b[0mconexao\u001b[0m\u001b[1;33m)\u001b[0m\u001b[1;33m\u001b[0m\u001b[1;33m\u001b[0m\u001b[0m\n\u001b[1;32m---> 19\u001b[1;33m \u001b[0mcategoria\u001b[0m\u001b[1;33m.\u001b[0m\u001b[0mcriar\u001b[0m\u001b[1;33m(\u001b[0m\u001b[1;33m)\u001b[0m\u001b[1;33m\u001b[0m\u001b[1;33m\u001b[0m\u001b[0m\n\u001b[0m",
      "\u001b[1;32m<ipython-input-4-54ac927759d2>\u001b[0m in \u001b[0;36mcriar\u001b[1;34m(self)\u001b[0m\n\u001b[0;32m     15\u001b[0m             '''\n\u001b[0;32m     16\u001b[0m         \u001b[1;32mwith\u001b[0m \u001b[0mself\u001b[0m\u001b[1;33m.\u001b[0m\u001b[0mconexao\u001b[0m\u001b[1;33m:\u001b[0m\u001b[1;33m\u001b[0m\u001b[1;33m\u001b[0m\u001b[0m\n\u001b[1;32m---> 17\u001b[1;33m             \u001b[0mself\u001b[0m\u001b[1;33m.\u001b[0m\u001b[0mconexao\u001b[0m\u001b[1;33m.\u001b[0m\u001b[0mexecute\u001b[0m\u001b[1;33m(\u001b[0m\u001b[0mddl\u001b[0m\u001b[1;33m)\u001b[0m\u001b[1;33m\u001b[0m\u001b[1;33m\u001b[0m\u001b[0m\n\u001b[0m\u001b[0;32m     18\u001b[0m \u001b[0mcategoria\u001b[0m \u001b[1;33m=\u001b[0m \u001b[0mVendedor\u001b[0m\u001b[1;33m(\u001b[0m\u001b[0mconexao\u001b[0m\u001b[1;33m)\u001b[0m\u001b[1;33m\u001b[0m\u001b[1;33m\u001b[0m\u001b[0m\n\u001b[0;32m     19\u001b[0m \u001b[0mcategoria\u001b[0m\u001b[1;33m.\u001b[0m\u001b[0mcriar\u001b[0m\u001b[1;33m(\u001b[0m\u001b[1;33m)\u001b[0m\u001b[1;33m\u001b[0m\u001b[1;33m\u001b[0m\u001b[0m\n",
      "\u001b[1;31mProgrammingError\u001b[0m: ('42S01', \"[42S01] [Microsoft][ODBC SQL Server Driver][SQL Server]Já existe um objeto com nome 'Vendedor' no banco de dados. (2714) (SQLExecDirectW)\")"
     ]
    }
   ],
   "source": [
    "#Criando a classe Vendedor\n",
    "class Vendedor:\n",
    "    def __init__(self, conexao):\n",
    "        self.conexao = conexao\n",
    "\n",
    "    def criar (self):\n",
    "        ddl = '''\n",
    "            CREATE TABLE Vendedor (\n",
    "                cpf varchar (14) primary key,\n",
    "                nome varchar (128),\n",
    "                email varchar (128),\n",
    "                telefone varchar (20),\n",
    "                endereco varchar (256)\n",
    "            );\n",
    "            '''\n",
    "        with self.conexao:\n",
    "            self.conexao.execute(ddl)\n",
    "categoria = Vendedor(conexao)\n",
    "categoria.criar()"
   ]
  },
  {
   "cell_type": "code",
   "execution_count": 5,
   "metadata": {},
   "outputs": [
    {
     "output_type": "error",
     "ename": "ProgrammingError",
     "evalue": "('42S01', \"[42S01] [Microsoft][ODBC SQL Server Driver][SQL Server]Já existe um objeto com nome 'Produto' no banco de dados. (2714) (SQLExecDirectW)\")",
     "traceback": [
      "\u001b[1;31m---------------------------------------------------------------------------\u001b[0m",
      "\u001b[1;31mProgrammingError\u001b[0m                          Traceback (most recent call last)",
      "\u001b[1;32m<ipython-input-5-6a5aac39cbcc>\u001b[0m in \u001b[0;36m<module>\u001b[1;34m\u001b[0m\n\u001b[0;32m     16\u001b[0m             \u001b[0mself\u001b[0m\u001b[1;33m.\u001b[0m\u001b[0mconexao\u001b[0m\u001b[1;33m.\u001b[0m\u001b[0mexecute\u001b[0m\u001b[1;33m(\u001b[0m\u001b[0mddl\u001b[0m\u001b[1;33m)\u001b[0m\u001b[1;33m\u001b[0m\u001b[1;33m\u001b[0m\u001b[0m\n\u001b[0;32m     17\u001b[0m \u001b[0mcategoria\u001b[0m \u001b[1;33m=\u001b[0m \u001b[0mProduto\u001b[0m\u001b[1;33m(\u001b[0m\u001b[0mconexao\u001b[0m\u001b[1;33m)\u001b[0m\u001b[1;33m\u001b[0m\u001b[1;33m\u001b[0m\u001b[0m\n\u001b[1;32m---> 18\u001b[1;33m \u001b[0mcategoria\u001b[0m\u001b[1;33m.\u001b[0m\u001b[0mcriar\u001b[0m\u001b[1;33m(\u001b[0m\u001b[1;33m)\u001b[0m\u001b[1;33m\u001b[0m\u001b[1;33m\u001b[0m\u001b[0m\n\u001b[0m",
      "\u001b[1;32m<ipython-input-5-6a5aac39cbcc>\u001b[0m in \u001b[0;36mcriar\u001b[1;34m(self)\u001b[0m\n\u001b[0;32m     14\u001b[0m             '''\n\u001b[0;32m     15\u001b[0m         \u001b[1;32mwith\u001b[0m \u001b[0mself\u001b[0m\u001b[1;33m.\u001b[0m\u001b[0mconexao\u001b[0m\u001b[1;33m:\u001b[0m\u001b[1;33m\u001b[0m\u001b[1;33m\u001b[0m\u001b[0m\n\u001b[1;32m---> 16\u001b[1;33m             \u001b[0mself\u001b[0m\u001b[1;33m.\u001b[0m\u001b[0mconexao\u001b[0m\u001b[1;33m.\u001b[0m\u001b[0mexecute\u001b[0m\u001b[1;33m(\u001b[0m\u001b[0mddl\u001b[0m\u001b[1;33m)\u001b[0m\u001b[1;33m\u001b[0m\u001b[1;33m\u001b[0m\u001b[0m\n\u001b[0m\u001b[0;32m     17\u001b[0m \u001b[0mcategoria\u001b[0m \u001b[1;33m=\u001b[0m \u001b[0mProduto\u001b[0m\u001b[1;33m(\u001b[0m\u001b[0mconexao\u001b[0m\u001b[1;33m)\u001b[0m\u001b[1;33m\u001b[0m\u001b[1;33m\u001b[0m\u001b[0m\n\u001b[0;32m     18\u001b[0m \u001b[0mcategoria\u001b[0m\u001b[1;33m.\u001b[0m\u001b[0mcriar\u001b[0m\u001b[1;33m(\u001b[0m\u001b[1;33m)\u001b[0m\u001b[1;33m\u001b[0m\u001b[1;33m\u001b[0m\u001b[0m\n",
      "\u001b[1;31mProgrammingError\u001b[0m: ('42S01', \"[42S01] [Microsoft][ODBC SQL Server Driver][SQL Server]Já existe um objeto com nome 'Produto' no banco de dados. (2714) (SQLExecDirectW)\")"
     ]
    }
   ],
   "source": [
    "#Criando a classe Produto\n",
    "class Produto:\n",
    "    def __init__(self, conexao):\n",
    "        self.conexao = conexao\n",
    "    def criar(self):\n",
    "        ddl = '''\n",
    "            CREATE TABLE Produto(\n",
    "                id int primary key identity (1, 1), -- identity (inicio, incremento): especifica o valor inicial e de incremento dos valores gerados para a primary key.\n",
    "                nome varchar (128),\n",
    "                descricao text,\n",
    "                marca varchar (32),\n",
    "                id_categoria int foreign key references Categoria (id)\n",
    "            );\n",
    "            '''\n",
    "        with self.conexao:\n",
    "            self.conexao.execute(ddl)\n",
    "categoria = Produto(conexao)\n",
    "categoria.criar()"
   ]
  },
  {
   "cell_type": "code",
   "execution_count": 6,
   "metadata": {},
   "outputs": [
    {
     "output_type": "error",
     "ename": "ProgrammingError",
     "evalue": "('42S01', \"[42S01] [Microsoft][ODBC SQL Server Driver][SQL Server]Já existe um objeto com nome 'VendedorProduto' no banco de dados. (2714) (SQLExecDirectW)\")",
     "traceback": [
      "\u001b[1;31m---------------------------------------------------------------------------\u001b[0m",
      "\u001b[1;31mProgrammingError\u001b[0m                          Traceback (most recent call last)",
      "\u001b[1;32m<ipython-input-6-9bdb881bee6d>\u001b[0m in \u001b[0;36m<module>\u001b[1;34m\u001b[0m\n\u001b[0;32m     16\u001b[0m             \u001b[0mself\u001b[0m\u001b[1;33m.\u001b[0m\u001b[0mconexao\u001b[0m\u001b[1;33m.\u001b[0m\u001b[0mexecute\u001b[0m\u001b[1;33m(\u001b[0m\u001b[0mddl\u001b[0m\u001b[1;33m)\u001b[0m\u001b[1;33m\u001b[0m\u001b[1;33m\u001b[0m\u001b[0m\n\u001b[0;32m     17\u001b[0m \u001b[0mcategoria\u001b[0m \u001b[1;33m=\u001b[0m \u001b[0mVendedorProduto\u001b[0m\u001b[1;33m(\u001b[0m\u001b[0mconexao\u001b[0m\u001b[1;33m)\u001b[0m\u001b[1;33m\u001b[0m\u001b[1;33m\u001b[0m\u001b[0m\n\u001b[1;32m---> 18\u001b[1;33m \u001b[0mcategoria\u001b[0m\u001b[1;33m.\u001b[0m\u001b[0mcriar\u001b[0m\u001b[1;33m(\u001b[0m\u001b[1;33m)\u001b[0m\u001b[1;33m\u001b[0m\u001b[1;33m\u001b[0m\u001b[0m\n\u001b[0m",
      "\u001b[1;32m<ipython-input-6-9bdb881bee6d>\u001b[0m in \u001b[0;36mcriar\u001b[1;34m(self)\u001b[0m\n\u001b[0;32m     14\u001b[0m             '''\n\u001b[0;32m     15\u001b[0m         \u001b[1;32mwith\u001b[0m \u001b[0mself\u001b[0m\u001b[1;33m.\u001b[0m\u001b[0mconexao\u001b[0m\u001b[1;33m:\u001b[0m\u001b[1;33m\u001b[0m\u001b[1;33m\u001b[0m\u001b[0m\n\u001b[1;32m---> 16\u001b[1;33m             \u001b[0mself\u001b[0m\u001b[1;33m.\u001b[0m\u001b[0mconexao\u001b[0m\u001b[1;33m.\u001b[0m\u001b[0mexecute\u001b[0m\u001b[1;33m(\u001b[0m\u001b[0mddl\u001b[0m\u001b[1;33m)\u001b[0m\u001b[1;33m\u001b[0m\u001b[1;33m\u001b[0m\u001b[0m\n\u001b[0m\u001b[0;32m     17\u001b[0m \u001b[0mcategoria\u001b[0m \u001b[1;33m=\u001b[0m \u001b[0mVendedorProduto\u001b[0m\u001b[1;33m(\u001b[0m\u001b[0mconexao\u001b[0m\u001b[1;33m)\u001b[0m\u001b[1;33m\u001b[0m\u001b[1;33m\u001b[0m\u001b[0m\n\u001b[0;32m     18\u001b[0m \u001b[0mcategoria\u001b[0m\u001b[1;33m.\u001b[0m\u001b[0mcriar\u001b[0m\u001b[1;33m(\u001b[0m\u001b[1;33m)\u001b[0m\u001b[1;33m\u001b[0m\u001b[1;33m\u001b[0m\u001b[0m\n",
      "\u001b[1;31mProgrammingError\u001b[0m: ('42S01', \"[42S01] [Microsoft][ODBC SQL Server Driver][SQL Server]Já existe um objeto com nome 'VendedorProduto' no banco de dados. (2714) (SQLExecDirectW)\")"
     ]
    }
   ],
   "source": [
    "#Criando a classe vendedor produto\n",
    "class VendedorProduto:\n",
    "    def __init__(self, conexao):\n",
    "        self.conexao = conexao\n",
    "    def criar(self):\n",
    "        ddl = '''\n",
    "            CREATE TABLE VendedorProduto (\n",
    "                id int primary key identity (1, 1), -- identity (inicio, incremento): especifica o valor inicial e de incremento dos valores gerados para a primary key.\n",
    "                cpf_vendedor varchar (14) foreign key references Vendedor (cpf),\n",
    "                id_produto int foreign key references Produto (id),\n",
    "                quantidade int,\n",
    "                preco decimal\n",
    "            );\n",
    "            '''\n",
    "        with self.conexao:\n",
    "            self.conexao.execute(ddl)\n",
    "categoria = VendedorProduto(conexao)\n",
    "categoria.criar()"
   ]
  },
  {
   "cell_type": "code",
   "execution_count": 8,
   "metadata": {},
   "outputs": [
    {
     "output_type": "stream",
     "name": "stdout",
     "text": [
      "(1, 'celulares', 'telefones celulares')\n(2, 'livros', 'livros impressos')\n(3, 'eletroeletrônicos', 'dispositivos eletroeletronicos')\n(4, 'alimentos', 'alimentos não perecíveis')\n(5, 'livros', 'livros impressos')\n(6, 'eletroeletrônicos', 'dispositivos eletroeletronicos')\n(7, 'alimentos', 'alimentos não perecíveis')\n(8, 'celulares', 'telefones celulares')\n(9, 'livros', 'livros impressos')\n(10, 'eletroeletrônicos', 'dispositivos eletroeletronicos')\n(11, 'alimentos', 'alimentos não perecíveis')\n(12, 'celulares', 'telefones celulares')\n(13, 'livros', 'livros impressos')\n(14, 'eletroeletrônicos', 'dispositivos eletroeletronicos')\n(15, 'alimentos', 'alimentos não perecíveis')\n(17, 'cozinha', 'utensilhos de cozinha')\n(18, 'cozinha', 'utensilhos de cozinha')\n(19, 'cozinha', 'utensilhos de cozinha')\n(20, 'cozinha', 'utensilhos de cozinha')\n(22, 'cozinha', 'utensilhos de cozinha')\n(23, 'celulares', 'telefones celulares')\n(24, 'Roupas', 'Infantil')\n(25, 'Roupas', 'Adulto')\n(26, 'Casa', 'Sala')\n(27, 'celulares', 'telefones celulares')\n(28, 'Celulares', 'Novos')\n(29, 'celulares', 'telefones celulares')\n(30, 'Moveis', 'sofá')\n(31, 'Brinquedos', 'jogos')\n(32, 'TV', 'smart tv')\n(33, 'Tablet', 'Samsung')\n(34, 'Livros', 'Pré-venda')\n(35, 'Móveis', 'Sofá')\n(37, 'Escritorio', 'canetas')\n(38, 'Cozinha', 'Utensilhos de cozinha')\n(39, 'Telefonia', 'Aparelho telefônico')\n(40, 'Informática', 'Computador POrtátil')\n(41, 'Roupa', 'Vestuário')\n(42, 'Calçados', 'Vestuário')\n(43, 'Telefonia', 'Aparelho telefônico')\n(44, 'Informática', 'Computador POrtátil')\n(45, 'Roupa', 'Vestuário')\n(46, 'Calçados', 'Vestuário')\n(47, 'Telefonia', 'Aparelho telefônico')\n(48, 'Informática', 'Computador POrtátil')\n(49, 'Roupa', 'Vestuário')\n(50, 'Calçados', 'Vestuário')\n(51, 'celulares', 'telefones celulares')\n(52, 'Cozinha', 'Utensilhos de cozinha')\n(53, 'Periféricos', 'Mouse')\n(54, 'Periféricos', 'Mouse')\n(55, 'Periféricos', 'Mouse')\n(56, 'Periféricos', 'Mouse')\n(57, 'Periféricos', 'Mouse')\n(58, 'Periféricos', 'Mouse')\n(59, 'Periféricos', 'Mouse')\n(60, 'celulares', 'telefones celulares')\n(61, 'livros', 'romance')\n(62, 'Brinquedos', 'jogos')\n(63, 'TV', 'smart tv')\n(64, 'Tablet', 'Samsung')\n(65, 'Livros', 'Pré-venda')\n(66, 'Móveis', 'Sofá')\n(67, 'Periféricos', 'Mouse')\n(68, 'Periféricos', 'Mouse')\n(69, 'Periféricos', 'Mouse')\n(70, 'Periféricos', 'Mouse')\n(71, 'Periféricos', 'Fones')\n(72, 'Periféricos', 'Fones')\n(73, 'Periféricos', 'Fones')\n(74, 'Periféricos', 'Fones')\n(75, 'Periféricos', 'Fones')\n(76, 'Periféricos', 'Cabos')\n(77, 'Periféricos', 'teclado')\n(78, 'Livros', 'História')\n(79, 'Livros', 'Informática')\n(80, 'Informárica', 'Gabinete')\n(81, 'Roupas', 'Blusas')\n(82, 'Calçado', 'Tênis')\n(83, 'Livros', 'História')\n(84, 'Livros', 'Informática')\n(85, 'Informárica', 'Gabinete')\n(86, 'Roupas', 'Blusas')\n(87, 'Calçado', 'Tênis')\n"
     ]
    }
   ],
   "source": [
    "#Ler os registros da tabela Categoria\n",
    "cursor = conexao.cursor()\n",
    "cursor.execute('select *from Categoria')\n",
    "for leitura in cursor:\n",
    "    print(leitura)"
   ]
  },
  {
   "cell_type": "code",
   "execution_count": 9,
   "metadata": {},
   "outputs": [
    {
     "output_type": "stream",
     "name": "stdout",
     "text": [
      "('209.821.440-59', 'Ester', 'ester@gmail.com.br', '(11) 94963-7429', 'Rua Capitão Manuel Novais, 942, Apto 1001, Pirituba, Araruna - PE')\n('248.823.670-50', 'Daniele', 'daniele@gmail.com.br', '(11) 92637-1877', 'Avenida Nova Cantareira, 641, Apartamento 602, Itaim Bibi, São Sebastião do Maranhão - MT')\n('311.348.530-41', 'Carla', 'carla@gmail.com.br', '(61) 91757-2429', 'Avenida Engenheiro Luís Carlos Berrini, 536, Apto 201, Santa Cecília, Barra Mansa - MG')\n('363.957.600-41', 'Giovana', 'giovana@gmail.com.br', '(61) 99024-1933', 'Ligação Leste-Oeste, 659, Apartamento 4002, Jardim Helena, Jaraguari - BA')\n('403.327.451-04', 'Audrey Marta', 'emanuel@msn.com', '(61) 90616-5843', 'Rua Voluntários da Pátria 367, Loja 602, Mandaqui, Ponto Belo - RS')\n('527.592.280-96', 'Iasmin', 'iasmin@gmail.com.br', '(61) 91183-0532', 'Rua Amaral Gama, 158, Apartamento 703, Morumbi, São Domingos - SC')\n('529.470.519-20', 'Geisa Rocha', '(11) 92476-1881', 'juracy@outlook.com', 'Avenida Santo Amaro 47, Apto 3002, Rio Pequeno, Santana da Boa Vista - PE')\n('533.773.590-01', 'Hermínia', 'herminia@gmail.com.br', '(11) 90360-4178', 'Avenida Rubem Berta, 676, Apartamento 8003, Vila Guilherme, Riachuelo - MS')\n('590.348.787-40', 'Ana', 'ana@gmail.com.br', '(31) 90512-3768', 'Rua João Cachoeira, 71, Vila Prudente -  Amaporã - MG')\n('632.975.893-02', 'Elissandra Fonseca', 'maikson@hotmail.com', '(21) 93563-7541', 'Avenida da Liberdade 154, Apto 602, Jaguara, Porto Rico - PI')\n('641.847.400-73', 'Bruna', 'bruna@gmail.com.br', '(21) 91808-7777', 'Rua Padre João Manuel, 11, Bloco D, Jaçanã, Juazeirinho - PB')\n('920.913.138-07', 'Claudionei Mafra', 'isaira@hotmail.com', '(31) 98668-8390\"', 'Rua Barão de Itapetininga 509, Apartamento 4001, Sé, Almenara - PE')\n('939.444.360-67', 'Fernanda', 'fernanda@gmail.com.br', '(11) 91349-2551', 'Avenida Senador Teotônio Vilela, 447, Apto 403, Jardim São Luís, Além Paraíba - RO')\n"
     ]
    }
   ],
   "source": [
    "#Ler os registros da tabela Vendedor\n",
    "cursor = conexao.cursor()\n",
    "cursor.execute('select * from Vendedor')\n",
    "for leitura in cursor:\n",
    "    print(leitura)\n",
    "\n"
   ]
  },
  {
   "cell_type": "code",
   "execution_count": 10,
   "metadata": {},
   "outputs": [
    {
     "output_type": "stream",
     "name": "stdout",
     "text": [
      "(1, 'Celular', 'Basico', 'Samsung', 1)\n(2, 'Celular', 'Intermediário', 'Xiaomi', 1)\n(3, 'Celular', 'Top de linha', 'Apple', 1)\n(4, 'Notebook', 'Básico', 'Samsung', 2)\n(5, 'Notebook', 'Intermediário', 'Apple', 2)\n(6, 'Notebook', 'Gamer', 'Xiaomi', 2)\n(7, 'Camisa', 'Mullet', 'NIKE', 3)\n(8, 'Calça', 'Jeans', 'NIKE', 3)\n(9, 'Tênis', 'Slip ON', 'NIKE', 4)\n(10, 'Camisa', 'T-shirt', 'PUMA', 3)\n(11, 'Calça', 'Jogger', 'PUMA', 3)\n(12, 'Tênis', 'Carina bdp', 'PUMA', 4)\n(13, 'Camisa', 'Tie dye', 'Adidas', 3)\n(14, 'Calça', 'Flare', 'Adidas', 3)\n(15, 'Tênis', 'Superstar', 'Adidas', 4)\n(16, 'Celular', 'Celular 1', 'Apple', 1)\n(17, 'Celular', 'Celular 2', 'Samsung', 1)\n(18, 'Celular', 'Celular 3', 'Xiaomi', 1)\n(19, 'Notebook', 'Notebook 1', 'Apple', 2)\n(20, 'Notebook', 'Notebook 2', 'Samsung', 2)\n(21, 'Notebook', 'Notebook 3', 'Xiaomi', 2)\n(22, 'Camisa', 'Camisa 1', 'Nike', 3)\n(23, 'Calça', 'Calça 1', 'Nike', 3)\n(24, 'Tênis', 'Tênis 1', 'Nike', 4)\n(25, 'Camisa', 'Camisa 2', 'Adidas', 3)\n(26, 'Calça', 'Calça 2', 'Adidas', 3)\n(27, 'Tênis', 'Tênis 2', 'Adidas', 4)\n(28, 'Camisa', 'Camisa 3', 'Zara', 3)\n(29, 'Calça', 'Calça 3', 'Zara', 3)\n(30, 'Tênis', 'Tênis 3', 'Zara', 4)\n"
     ]
    }
   ],
   "source": [
    "#Ler os registros da tabela Produto\n",
    "cursor = conexao.cursor()\n",
    "cursor.execute('select *from Produto')\n",
    "for leitura in cursor:\n",
    "    print(leitura)\n",
    "\n"
   ]
  },
  {
   "cell_type": "code",
   "execution_count": 11,
   "metadata": {},
   "outputs": [
    {
     "output_type": "stream",
     "name": "stdout",
     "text": [
      "(27, '632.975.893-02', 1, 2, Decimal('4000'))\n(67, '632.975.893-02', 11, 2, Decimal('4000'))\n(68, '632.975.893-02', 2, 5, Decimal('8000'))\n(69, '632.975.893-02', 3, 8, Decimal('6000'))\n(70, '632.975.893-02', 12, 2, Decimal('3000'))\n(71, '920.913.138-07', 4, 4, Decimal('300'))\n(72, '920.913.138-07', 5, 12, Decimal('50'))\n(73, '920.913.138-07', 6, 10, Decimal('900'))\n(74, '920.913.138-07', 7, 32, Decimal('1000'))\n(75, '529.470.519-20', 15, 2, Decimal('1000'))\n(76, '529.470.519-20', 8, 22, Decimal('100'))\n(77, '529.470.519-20', 9, 64, Decimal('30'))\n(78, '529.470.519-20', 10, 1, Decimal('1000'))\n(79, '403.327.451-04', 2, 1, Decimal('8000'))\n(80, '403.327.451-04', 1, 10, Decimal('2000'))\n"
     ]
    }
   ],
   "source": [
    "#Ler os registros da tabela VendedorProduto\n",
    "cursor = conexao.cursor()\n",
    "cursor.execute('select *from VendedorProduto')\n",
    "for leitura in cursor:\n",
    "    print(leitura)"
   ]
  }
 ]
}