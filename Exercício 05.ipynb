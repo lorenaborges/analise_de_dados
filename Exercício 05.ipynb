{
 "metadata": {
  "language_info": {
   "codemirror_mode": {
    "name": "ipython",
    "version": 3
   },
   "file_extension": ".py",
   "mimetype": "text/x-python",
   "name": "python",
   "nbconvert_exporter": "python",
   "pygments_lexer": "ipython3",
   "version": "3.8.3-final"
  },
  "orig_nbformat": 2,
  "kernelspec": {
   "name": "python3",
   "display_name": "Python 3"
  }
 },
 "nbformat": 4,
 "nbformat_minor": 2,
 "cells": [
  {
   "source": [
    "# EXERCÍCIOS\n",
    "# CRIANDO MÉTODOS E EXECUTANDO:"
   ],
   "cell_type": "markdown",
   "metadata": {}
  },
  {
   "source": [
    "# a) inserções"
   ],
   "cell_type": "markdown",
   "metadata": {}
  },
  {
   "cell_type": "code",
   "execution_count": 2,
   "metadata": {},
   "outputs": [],
   "source": [
    "#Importando biblioteca\n",
    "import pyodbc"
   ]
  },
  {
   "cell_type": "code",
   "execution_count": 17,
   "metadata": {},
   "outputs": [],
   "source": [
    "#fazendo a conexão com o banco de dados\n",
    "class ConexaoBD():\n",
    "    def conectar(self):\n",
    "        return pyodbc.connect (driver = '{SQL Server}', server = 'GROUP-NOTE0146', database= 'empresa', trusted_connection='yes')"
   ]
  },
  {
   "cell_type": "code",
   "execution_count": 21,
   "metadata": {},
   "outputs": [],
   "source": [
    "#Instanciar um objeto da classe para conexão com o banco de dados\n",
    "bd = ConexaoBD()\n",
    "#Pegar uma conexão com o banco de dados:\n",
    "conexao = bd.conectar()\n"
   ]
  },
  {
   "cell_type": "code",
   "execution_count": 33,
   "metadata": {},
   "outputs": [],
   "source": [
    "#A) Inserindo valores fixos:\n",
    "#Classe Categoria\n",
    "class Categoria:\n",
    "    def __init__ (self, conexao):\n",
    "        self.conexao = conexao\n",
    "\n",
    "    def inserir (self):\n",
    "        dml = \"insert into Categoria (nome, descricao) values ('Periféricos','Cabos');\"\n",
    "        with self.conexao:\n",
    "            cursor = self.conexao.cursor ()\n",
    "            cursor.execute(dml)\n",
    "            #self.conexao.commit()\n",
    "            sql = \"select * from Categoria;\"\n",
    "            cursor.execute(sql)\n",
    "            linha = cursor.fetchone()\n",
    "            return linha"
   ]
  },
  {
   "cell_type": "code",
   "execution_count": 35,
   "metadata": {},
   "outputs": [
    {
     "output_type": "stream",
     "name": "stdout",
     "text": [
      "(1, 'celulares', 'telefones celulares')\n"
     ]
    }
   ],
   "source": [
    "# Instaciar objeto da classe Categoria:\n",
    "categoria = Categoria (conexao)\n",
    "# Inserir um registro no banco de dados:\n",
    "linha = categoria.inserir ()\n",
    "# Apresentar na tela o registro inserido no banco de dados:\n",
    "print(linha)"
   ]
  },
  {
   "source": [
    "# b) Atualizações"
   ],
   "cell_type": "markdown",
   "metadata": {}
  },
  {
   "cell_type": "code",
   "execution_count": 42,
   "metadata": {},
   "outputs": [],
   "source": [
    "class Categoria:\n",
    "    def __init__ (self, conexao):\n",
    "        self.conexao = conexao\n",
    "\n",
    "    def update (self):\n",
    "        dml = \"update Categoria set descricao ='teclado' where id = 77;\"\n",
    "        with self.conexao:\n",
    "            cursor = self.conexao.cursor ()\n",
    "            cursor.execute(dml)\n",
    "            #self.conexao.commit()\n",
    "            sql = \"select * from Categoria;\"\n",
    "            cursor.execute(sql)\n",
    "            linha = cursor.fetchone()\n",
    "            return linha"
   ]
  },
  {
   "cell_type": "code",
   "execution_count": 43,
   "metadata": {},
   "outputs": [
    {
     "output_type": "stream",
     "name": "stdout",
     "text": [
      "(1, 'celulares', 'telefones celulares')\n"
     ]
    }
   ],
   "source": [
    "# Instaciar objeto da classe Categoria:\n",
    "categoria = Categoria (conexao)\n",
    "# Inserir um registro no banco de dados:\n",
    "linha = categoria.update ()\n",
    "# Apresentar na tela o registro inserido no banco de dados:\n",
    "print(linha)"
   ]
  },
  {
   "source": [
    "#  c) Exclusões"
   ],
   "cell_type": "markdown",
   "metadata": {}
  },
  {
   "cell_type": "code",
   "execution_count": 47,
   "metadata": {},
   "outputs": [],
   "source": [
    "class Categoria:\n",
    "    def __init__ (self, conexao):\n",
    "        self.conexao = conexao\n",
    "    \n",
    "    def delete (self):\n",
    "        dml = \"delete from Categoria where id = '16';\"\n",
    "        with self.conexao:\n",
    "            cursor = self.conexao.cursor ()\n",
    "            cursor.execute(dml)\n",
    "            #self.conexao.commit()\n",
    "            sql = \"select * from Categoria;\"\n",
    "            cursor.execute(sql)\n",
    "            linha = cursor.fetchone()\n",
    "            return linha"
   ]
  },
  {
   "cell_type": "code",
   "execution_count": 48,
   "metadata": {},
   "outputs": [
    {
     "output_type": "stream",
     "name": "stdout",
     "text": [
      "(1, 'celulares', 'telefones celulares')\n"
     ]
    }
   ],
   "source": [
    "# Instaciar objeto da classe Categoria:\n",
    "categoria = Categoria (conexao)\n",
    "# Inserir um registro no banco de dados:\n",
    "linha = categoria.delete ()\n",
    "# Apresentar na tela o registro inserido no banco de dados:\n",
    "print(linha)"
   ]
  },
  {
   "cell_type": "code",
   "execution_count": null,
   "metadata": {},
   "outputs": [],
   "source": []
  }
 ]
}