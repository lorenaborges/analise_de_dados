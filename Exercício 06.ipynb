{
 "metadata": {
  "language_info": {
   "codemirror_mode": {
    "name": "ipython",
    "version": 3
   },
   "file_extension": ".py",
   "mimetype": "text/x-python",
   "name": "python",
   "nbconvert_exporter": "python",
   "pygments_lexer": "ipython3",
   "version": "3.8.3-final"
  },
  "orig_nbformat": 2,
  "kernelspec": {
   "name": "python3",
   "display_name": "Python 3"
  }
 },
 "nbformat": 4,
 "nbformat_minor": 2,
 "cells": [
  {
   "source": [
    "# EXERCÍCIOS 06"
   ],
   "cell_type": "markdown",
   "metadata": {}
  },
  {
   "cell_type": "code",
   "execution_count": 1,
   "metadata": {},
   "outputs": [],
   "source": [
    "#Importar tabelas\n",
    "import pandas as pd\n",
    "import pyodbc"
   ]
  },
  {
   "cell_type": "code",
   "execution_count": 2,
   "metadata": {},
   "outputs": [],
   "source": [
    "#Classe para conexão com o banco de dados\n",
    "class ConexaoBD():\n",
    "    def conectar (self):\n",
    "        return pyodbc.connect (driver = '{SQL Server}', server = 'GROUP-NOTE0146', database= 'empresa', trusted_connection='yes')\n",
    "\n",
    "#Instanciar um objeto da classe para conexão com o banco de dados:\n",
    "bd = ConexaoBD()\n",
    "#Pegar uma conexão com o banco de dados\n",
    "conexao = bd.conectar()"
   ]
  },
  {
   "cell_type": "code",
   "execution_count": 6,
   "metadata": {},
   "outputs": [
    {
     "output_type": "stream",
     "name": "stdout",
     "text": [
      "              cpf     nome                 email         telefone  \\\n0  248.823.670-50  Daniele  daniele@gmail.com.br  (11) 92637-1877   \n\n                                            endereco  \n0  Avenida Nova Cantareira, 641, Apartamento 602,...  \n<class 'pandas.core.frame.DataFrame'>\n"
     ]
    }
   ],
   "source": [
    "# 1) Quais vendedores possuem o nome terminado com a letra “es”?\n",
    "\n",
    "class Vendedor:\n",
    "    def __init__(self, conexao):\n",
    "        self.conexao = conexao\n",
    "    def buscar(self):\n",
    "        sql = '''select * from Vendedor where nome LIKE '%e' \n",
    "            '''\n",
    "        data_frame = pd.read_sql_query(sql, self.conexao)\n",
    "        print(data_frame)\n",
    "        print(type(data_frame))\n",
    "\n",
    "#Instanciar objeto\n",
    "vendedor = Vendedor(conexao)\n",
    "#Ler informação\n",
    "vendedor.buscar()\n"
   ]
  },
  {
   "cell_type": "code",
   "execution_count": 15,
   "metadata": {},
   "outputs": [
    {
     "output_type": "stream",
     "name": "stdout",
     "text": [
      "              CPF          Vendedor   Produto   Preco\n0  920.913.138-07  Claudionei Mafra  Notebook   300.0\n1  920.913.138-07  Claudionei Mafra  Notebook   900.0\n2  920.913.138-07  Claudionei Mafra    Camisa  1000.0\n3  529.470.519-20       Geisa Rocha     Tênis  1000.0\n4  529.470.519-20       Geisa Rocha     Calça   100.0\n5  529.470.519-20       Geisa Rocha    Camisa  1000.0\n<class 'pandas.core.frame.DataFrame'>\n"
     ]
    }
   ],
   "source": [
    "#2) Quais vendedores possuem produtos com valor entre $10 e $50 ou entre $100 e $500?\n",
    "class Vendedor:\n",
    "    def __init__ (self, conexao):\n",
    "        self.conexao = conexao\n",
    "    def entre (self):\n",
    "        sql = '''select v.cpf as CPF, v.nome as Vendedor, p.nome as Produto, vp.preco as Preco \n",
    "                 from Vendedor v, VendedorProduto vp, Produto p\n",
    "                 where v.cpf = vp.cpf_vendedor and \n",
    "                 vp.id_produto = p.id and\n",
    "                 vp.preco between 100 and 1000;\n",
    "            '''\n",
    "        data_frame = pd.read_sql_query (sql, self.conexao)\n",
    "        print(data_frame)\n",
    "        print (type(data_frame))\n",
    "\n",
    "# Instanciar objeto da classe Vendedor:\n",
    "vendedor = Vendedor (conexao)\n",
    "# Pesquisa:\n",
    "vendedor.entre ()"
   ]
  },
  {
   "cell_type": "code",
   "execution_count": 25,
   "metadata": {},
   "outputs": [
    {
     "output_type": "stream",
     "name": "stdout",
     "text": [
      "   Soma dos produtos de cada vendedor\n0                            110000.0\n<class 'pandas.core.frame.DataFrame'>\n"
     ]
    }
   ],
   "source": [
    "#3) Se Ana vender todos os seu produtos, quanto ela receberá?\n",
    "class VendedorProduto:\n",
    "    def __init__(self, conexao):\n",
    "        self.conexao = conexao\n",
    "    def soma (self):\n",
    "        sql = ''' select sum (preco*quantidade) as 'Soma dos produtos de cada vendedor'\n",
    "                  from vendedorProduto where cpf_vendedor = '632.975.893-02'\n",
    "            '''\n",
    "        data_frame = pd.read_sql_query(sql, self.conexao)\n",
    "        print(data_frame)\n",
    "        print(type(data_frame))\n",
    "\n",
    "#Instanciar objeto na classe\n",
    "vendedor_produto = VendedorProduto(conexao)\n",
    "vendedor_produto.soma()"
   ]
  },
  {
   "cell_type": "code",
   "execution_count": 22,
   "metadata": {},
   "outputs": [
    {
     "output_type": "stream",
     "name": "stdout",
     "text": [
      "   Soma dos produtos de cada vendedor\n0                            187920.0\n<class 'pandas.core.frame.DataFrame'>\n"
     ]
    }
   ],
   "source": [
    "#4) Se todos os vendedores venderem todos os seu produtos, qual será o total apurado nas vendas?\n",
    "class VendedorProduto:\n",
    "    def __init__(self, conexao):\n",
    "        self.conexao = conexao\n",
    "    def soma (self):\n",
    "        sql = ''' select sum (preco*quantidade) as 'Soma dos produtos de cada vendedor'\n",
    "                    from vendedorProduto\n",
    "            '''\n",
    "        data_frame = pd.read_sql_query(sql, self.conexao)\n",
    "        print(data_frame)\n",
    "        print(type(data_frame))\n",
    "\n",
    "#Instanciar objeto na classe\n",
    "vendedor_produto = VendedorProduto(conexao)\n",
    "vendedor_produto.soma()"
   ]
  },
  {
   "cell_type": "code",
   "execution_count": 7,
   "metadata": {},
   "outputs": [
    {
     "output_type": "stream",
     "name": "stdout",
     "text": [
      "             Vendedor  Total Vendas\n0        Audrey Marta       28000.0\n1         Geisa Rocha        7120.0\n2  Elissandra Fonseca      110000.0\n3    Claudionei Mafra       42800.0\n"
     ]
    }
   ],
   "source": [
    "#5) Se todos os vendedores venderem todos os seu produtos, quem receberá o maior valor?\n",
    "class VendedorProduto:\n",
    "    def __init__ (self, conexao):\n",
    "        self.conexao = conexao\n",
    " \n",
    "    def buscar (self):\n",
    "        sql = '''         \n",
    "        select v.nome as Vendedor, sum (vp.quantidade * vp.preco) as 'Total Vendas'\n",
    " from Vendedor v, VendedorProduto vp where vp.cpf_vendedor = v.cpf\n",
    "  group by v.nome, vp.cpf_vendedor\n",
    " '''\n",
    "        data_frame = pd.read_sql_query (sql, self.conexao)\n",
    "        print (data_frame)\n",
    "\n",
    "# Instanciar objeto da classe Vendedor:\n",
    "vendedor_produto = VendedorProduto (conexao)\n",
    "# Pesquisar:\n",
    "vendedor_produto.buscar ()\n"
   ]
  },
  {
   "cell_type": "code",
   "execution_count": 23,
   "metadata": {},
   "outputs": [
    {
     "output_type": "stream",
     "name": "stdout",
     "text": [
      "   Valor Médio das Vendas\n0                 12528.0\n<class 'pandas.core.frame.DataFrame'>\n"
     ]
    }
   ],
   "source": [
    "#6) Se todos os vendedores venderem todos os seu produtos, qual será o valor médio das vendas?\n",
    "class VendedorProduto:\n",
    "    def __init__(self, conexao):\n",
    "        self.conexao = conexao\n",
    "    def buscar (self):\n",
    "        sql = '''select avg (preco*quantidade) as 'Valor Médio das Vendas por produto'\n",
    "                from VendedorProduto\n",
    "              '''\n",
    "        data_frame = pd.read_sql_query (sql, self.conexao)\n",
    "        print(data_frame)\n",
    "        print (type(data_frame))\n",
    "\n",
    "#Instanciar objeto\n",
    "vendedor_produto = VendedorProduto(conexao)\n",
    "#Ler as informações da tabela\n",
    "vendedor_produto.buscar()"
   ]
  },
  {
   "cell_type": "code",
   "execution_count": 12,
   "metadata": {},
   "outputs": [
    {
     "output_type": "stream",
     "name": "stdout",
     "text": [
      "             Vendedor  Total de Vendas\n0        Audrey Marta          28000.0\n1         Geisa Rocha           7120.0\n2  Elissandra Fonseca         110000.0\n3    Claudionei Mafra          42800.0\n"
     ]
    }
   ],
   "source": [
    "#7) Se todos os vendedores venderem todos os seu produtos, quem receberá acima da média?\n",
    "    #Quantidade total de vendas de cada vendedor\n",
    "class VendedorProduto:\n",
    "    def __init__ (self, conexao):\n",
    "        self.conexao = conexao\n",
    " \n",
    "    def buscar (self):\n",
    "        sql = '''         \n",
    "        select v.nome as Vendedor, sum (vp.quantidade * vp.preco) as 'Total de Vendas'\n",
    " from Vendedor v, VendedorProduto vp where vp.cpf_vendedor = v.cpf\n",
    "  group by v.nome, vp.cpf_vendedor\n",
    " '''\n",
    "        data_frame = pd.read_sql_query (sql, self.conexao)\n",
    "        print (data_frame)\n",
    "\n",
    "# Instanciar objeto da classe Vendedor:\n",
    "vendedor_produto = VendedorProduto (conexao)\n",
    "# Pesquisar:\n",
    "vendedor_produto.buscar ()"
   ]
  },
  {
   "cell_type": "code",
   "execution_count": 13,
   "metadata": {},
   "outputs": [
    {
     "output_type": "stream",
     "name": "stdout",
     "text": [
      "   Média das vendas totais\n0                  46980.0\n"
     ]
    }
   ],
   "source": [
    "#Média da quantidade de vendas de cada vendedor\n",
    "class VendedorProduto:\n",
    "    def __init__ (self, conexao):\n",
    "        self.conexao = conexao\n",
    " \n",
    "    def buscar (self):\n",
    "        sql = '''         \n",
    "        select (sum (quantidade * preco)/4) as 'Média das vendas totais'\n",
    " from VendedorProduto\n",
    " '''\n",
    "        data_frame = pd.read_sql_query (sql, self.conexao)\n",
    "        print (data_frame)\n",
    "\n",
    "# Instanciar objeto da classe Vendedor:\n",
    "vendedor_produto = VendedorProduto (conexao)\n",
    "# Pesquisar:\n",
    "vendedor_produto.buscar ()"
   ]
  },
  {
   "source": [
    "7) Elissandra Fonseca será a única vendedora que irá receber acima de 46980,00 que é a média das vendas."
   ],
   "cell_type": "markdown",
   "metadata": {}
  }
 ]
}